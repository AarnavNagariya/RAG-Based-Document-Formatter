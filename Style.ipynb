{
 "cells": [
  {
   "cell_type": "markdown",
   "metadata": {},
   "source": [
    "## Style"
   ]
  },
  {
   "cell_type": "code",
   "execution_count": 1,
   "metadata": {},
   "outputs": [
    {
     "name": "stdout",
     "output_type": "stream",
     "text": [
      "PDF saved as Assignment.pdf\n"
     ]
    }
   ],
   "source": [
    "import markdown2\n",
    "from xhtml2pdf import pisa\n",
    "import re\n",
    "\n",
    "def add_header_id(html_content):\n",
    "        # Use a regular expression to find the first <h1> tag and add an id=\"header_content\"\n",
    "        html_with_id = re.sub(r'(<h1\\b[^>]*)(>)', r'\\1 id=\"header_content\"\\2', html_content, count=1)\n",
    "        return html_with_id\n",
    "def add_footer(html_content):\n",
    "    html_with_footer = html_content + '''<div id=\"footer_content\">(c) - page <pdf:pagenumber> of <pdf:pagecount></div>'''\n",
    "    return html_with_footer\n",
    "def markdown_to_pdf(md_file, css_file, output_pdf):\n",
    "    with open(md_file, 'r', encoding='utf-8') as file:\n",
    "        md_content = file.read()\n",
    "\n",
    "    html_content = markdown2.markdown(md_content)\n",
    "    html_content = add_header_id(html_content) #only affects css with header_content id\n",
    "    html_content = add_footer(html_content) #only affects css with footer_content id\n",
    "    with open(css_file, 'r', encoding='utf-8') as file:\n",
    "        css_content = file.read()\n",
    "    \n",
    "    styled_html = f\"\"\"\n",
    "    <html>\n",
    "    <head>\n",
    "    <style>{css_content}</style>\n",
    "    </head>\n",
    "    <body>\n",
    "    {html_content}\n",
    "    </body>\n",
    "    </html>\n",
    "    \"\"\"\n",
    "\n",
    "    with open(output_pdf, 'wb') as pdf_file:\n",
    "        pisa_status = pisa.CreatePDF(styled_html, dest=pdf_file)\n",
    "\n",
    "    if pisa_status.err:\n",
    "        print(f\"Error during PDF generation: {pisa_status.err}\")\n",
    "    else:\n",
    "        print(f\"PDF saved as {output_pdf}\")\n",
    "\n",
    "\n",
    "markdown_file = 'Assignment.md'\n",
    "css_file = 'style/style2.css'\n",
    "output_pdf = 'Assignment.pdf'\n",
    "\n",
    "markdown_to_pdf(markdown_file, css_file, output_pdf)"
   ]
  },
  {
   "cell_type": "markdown",
   "metadata": {},
   "source": [
    "### DOCx Conversion - Template"
   ]
  },
  {
   "cell_type": "code",
   "execution_count": 1,
   "metadata": {},
   "outputs": [],
   "source": [
    "import pypandoc\n",
    "\n",
    "def markdown_to_docx_with_template(input_md_file, output_docx_file, template_docx_file):\n",
    "    pypandoc.convert_file(input_md_file, 'docx', outputfile=output_docx_file, extra_args=['--reference-doc', template_docx_file])\n",
    "\n",
    "markdown_to_docx_with_template('Assignment.md', 'output_1.docx', 'template1.docx')\n"
   ]
  }
 ],
 "metadata": {
  "kernelspec": {
   "display_name": "doc_form",
   "language": "python",
   "name": "python3"
  },
  "language_info": {
   "codemirror_mode": {
    "name": "ipython",
    "version": 3
   },
   "file_extension": ".py",
   "mimetype": "text/x-python",
   "name": "python",
   "nbconvert_exporter": "python",
   "pygments_lexer": "ipython3",
   "version": "3.10.11"
  }
 },
 "nbformat": 4,
 "nbformat_minor": 2
}
